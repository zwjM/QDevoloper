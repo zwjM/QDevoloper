{
 "cells": [
  {
   "cell_type": "markdown",
   "metadata": {},
   "source": [
    "1. 数据fetch"
   ]
  },
  {
   "cell_type": "code",
   "execution_count": null,
   "metadata": {
    "is_executing": true
   },
   "outputs": [],
   "source": [
    "def fetch_data(symbols, start_time, end_time, period, fields, ...):\n",
    "\t'''\n",
    "        @param symbols: 代码列表\n",
    "        @param start_time: 开始时间\n",
    "        @param end_time: 结束时间\n",
    "        @param period: 周期 1m 5m 1d\n",
    "        ...\n",
    "        限制每个用户的单日流量 超出需要提出申请\n",
    "        用户行为追踪 记录所有log\n",
    "\t'''"
   ]
  },
  {
   "cell_type": "markdown",
   "metadata": {},
   "source": [
    "2. 因子计算用户自己实现，因为用户挖掘出来的因子可能包含基础算子以外的算子（CPU算大概一分钟 5000只股票 10年）"
   ]
  },
  {
   "cell_type": "markdown",
   "metadata": {},
   "source": [
    "3. 回测（如何衡量因子好坏？ICIR还是Sharpe Rate   ICIR有强正相关 先选用Sharpe）"
   ]
  },
  {
   "cell_type": "code",
   "execution_count": null,
   "metadata": {},
   "outputs": [],
   "source": [
    "def backtest(factor_df: \"pandas.Dataframe\", start_time, end_time, period, ...):\n",
    "\t'''\n",
    "        @param factor_df: 因子值\n",
    "        @param start_time: 开始时间\n",
    "        @param end_time: 结束时间\n",
    "        @param period: 周期 1m 5m 1d\n",
    "        ...\n",
    "\t'''"
   ]
  },
  {
   "cell_type": "markdown",
   "metadata": {},
   "source": [
    "4. 上传有效因子 检查因子代码计算有效性"
   ]
  },
  {
   "cell_type": "markdown",
   "metadata": {},
   "source": [
    "用户依照template编写自己的因子计算python文件，检查用户因子计算代码与上传因子的一致性"
   ]
  },
  {
   "cell_type": "markdown",
   "metadata": {},
   "source": [
    "5. 用户权限分层管理 TODO"
   ]
  },
  {
   "cell_type": "markdown",
   "metadata": {},
   "source": [
    "写一个pyd，这个pyd里面包含以上所有接口，用户调用时强制将其用户名作为信息传入"
   ]
  }
 ],
 "metadata": {
  "language_info": {
   "name": "python"
  }
 },
 "nbformat": 4,
 "nbformat_minor": 2
}
