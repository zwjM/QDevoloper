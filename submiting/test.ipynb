{
 "cells": [
  {
   "cell_type": "code",
   "execution_count": 5,
   "id": "initial_id",
   "metadata": {
    "collapsed": true,
    "ExecuteTime": {
     "end_time": "2023-12-05T07:48:11.800940300Z",
     "start_time": "2023-12-05T07:48:11.779273200Z"
    }
   },
   "outputs": [
    {
     "data": {
      "text/plain": "<Element 'DATA' at 0x00000171A70240E0>"
     },
     "execution_count": 5,
     "metadata": {},
     "output_type": "execute_result"
    }
   ],
   "source": [
    "import xml.etree.ElementTree as ET\n",
    "\n",
    "import numpy as np\n",
    "import pandas as pd\n",
    "\n",
    "cfg = ET.parse('./alpha_config_template.xml')\n",
    "root = cfg.getroot()\n"
   ]
  },
  {
   "cell_type": "code",
   "execution_count": 22,
   "outputs": [],
   "source": [
    "for i in root.findall(\"Alpha\"):\n",
    "    i.append(root.find(\"DATA\"))\n",
    "    i.append(root.find(\"Constants\"))\n",
    "    i.append(root.find(\"Universe\"))\n",
    "    "
   ],
   "metadata": {
    "collapsed": false,
    "ExecuteTime": {
     "end_time": "2023-12-05T12:04:47.248283900Z",
     "start_time": "2023-12-05T12:04:47.228158600Z"
    }
   },
   "id": "4739d80c5e64d404"
  },
  {
   "cell_type": "code",
   "execution_count": 23,
   "outputs": [
    {
     "data": {
      "text/plain": "{'id': 'Alpha_name_08',\n 'dumpAlphaFile': 'true',\n 'dumpAlphaDir': '/personal_alpha/'}"
     },
     "execution_count": 23,
     "metadata": {},
     "output_type": "execute_result"
    }
   ],
   "source": [
    "i.attrib"
   ],
   "metadata": {
    "collapsed": false,
    "ExecuteTime": {
     "end_time": "2023-12-05T12:04:51.216439600Z",
     "start_time": "2023-12-05T12:04:51.194542200Z"
    }
   },
   "id": "d708a56febf346b2"
  },
  {
   "cell_type": "code",
   "execution_count": null,
   "outputs": [],
   "source": [],
   "metadata": {
    "collapsed": false
   },
   "id": "29fcd827110fafd1"
  },
  {
   "cell_type": "code",
   "execution_count": null,
   "outputs": [],
   "source": [],
   "metadata": {
    "collapsed": false
   },
   "id": "d3a827376d55e69e"
  },
  {
   "cell_type": "code",
   "execution_count": null,
   "outputs": [],
   "source": [],
   "metadata": {
    "collapsed": false
   },
   "id": "11fa4e764bfd3a9f"
  },
  {
   "cell_type": "code",
   "execution_count": null,
   "outputs": [],
   "source": [],
   "metadata": {
    "collapsed": false
   },
   "id": "1037f0c93f4e2b1a"
  },
  {
   "cell_type": "code",
   "execution_count": null,
   "outputs": [],
   "source": [],
   "metadata": {
    "collapsed": false
   },
   "id": "86286a2474819552"
  },
  {
   "cell_type": "code",
   "execution_count": 41,
   "outputs": [],
   "source": [
    "factor = pd.DataFrame()"
   ],
   "metadata": {
    "collapsed": false,
    "ExecuteTime": {
     "end_time": "2023-12-05T12:27:11.682087600Z",
     "start_time": "2023-12-05T12:27:11.672652700Z"
    }
   },
   "id": "ce1d64b6e74dd28f"
  },
  {
   "cell_type": "code",
   "execution_count": null,
   "outputs": [],
   "source": [],
   "metadata": {
    "collapsed": false
   },
   "id": "82a8b97e5cc91ae"
  },
  {
   "cell_type": "code",
   "execution_count": 27,
   "outputs": [
    {
     "data": {
      "text/plain": "array([[20090105150000],\n       [20090106150000],\n       [20090107150000],\n       ...,\n       [20211229150000],\n       [20211230150000],\n       [20211231150000]], dtype=int64)"
     },
     "execution_count": 27,
     "metadata": {},
     "output_type": "execute_result"
    }
   ],
   "source": [
    "pd.read_csv('E:\\Pycharm_files\\Quant\\devolop\\data\\daily_time_list.txt',header=None)"
   ],
   "metadata": {
    "collapsed": false,
    "ExecuteTime": {
     "end_time": "2023-12-05T12:21:03.013781500Z",
     "start_time": "2023-12-05T12:21:02.982822Z"
    }
   },
   "id": "bdfd2fd9242a63a"
  },
  {
   "cell_type": "code",
   "execution_count": 35,
   "outputs": [],
   "source": [
    "with open('E:\\Pycharm_files\\Quant\\devolop\\data\\daily_time_list.txt','r') as f:\n",
    "    datelist = [i.strip('\\n')[:8] for i in f.readlines()]\n",
    "    "
   ],
   "metadata": {
    "collapsed": false,
    "ExecuteTime": {
     "end_time": "2023-12-05T12:25:38.377286400Z",
     "start_time": "2023-12-05T12:25:38.361279600Z"
    }
   },
   "id": "1670c6eb12d7ae01"
  },
  {
   "cell_type": "code",
   "execution_count": 37,
   "outputs": [
    {
     "data": {
      "text/plain": "['000001.SZ',\n '000002.SZ',\n '000005.SZ',\n '000006.SZ',\n '000008.SZ',\n '000009.SZ',\n '000010.SZ',\n '000011.SZ',\n '000012.SZ',\n '000014.SZ',\n '000016.SZ',\n '000019.SZ',\n '000021.SZ',\n '000025.SZ',\n '000027.SZ',\n '000028.SZ',\n '000029.SZ',\n '000031.SZ',\n '000034.SZ',\n '000035.SZ',\n '000036.SZ',\n '000038.SZ',\n '000039.SZ',\n '000040.SZ',\n '000042.SZ',\n '000048.SZ',\n '000049.SZ',\n '000050.SZ',\n '000055.SZ',\n '000058.SZ',\n '000059.SZ',\n '000060.SZ',\n '000061.SZ',\n '000062.SZ',\n '000063.SZ',\n '000065.SZ',\n '000066.SZ',\n '000069.SZ',\n '000070.SZ',\n '000078.SZ',\n '000088.SZ',\n '000089.SZ',\n '000090.SZ',\n '000099.SZ',\n '000100.SZ',\n '000150.SZ',\n '000151.SZ',\n '000155.SZ',\n '000156.SZ',\n '000157.SZ',\n '000158.SZ',\n '000159.SZ',\n '000166.SZ',\n '000301.SZ',\n '000333.SZ',\n '000338.SZ',\n '000400.SZ',\n '000401.SZ',\n '000402.SZ',\n '000404.SZ',\n '000407.SZ',\n '000408.SZ',\n '000409.SZ',\n '000410.SZ',\n '000413.SZ',\n '000415.SZ',\n '000416.SZ',\n '000417.SZ',\n '000419.SZ',\n '000423.SZ',\n '000425.SZ',\n '000426.SZ',\n '000488.SZ',\n '000498.SZ',\n '000501.SZ',\n '000503.SZ',\n '000506.SZ',\n '000507.SZ',\n '000513.SZ',\n '000514.SZ',\n '000516.SZ',\n '000517.SZ',\n '000518.SZ',\n '000519.SZ',\n '000520.SZ',\n '000523.SZ',\n '000525.SZ',\n '000528.SZ',\n '000531.SZ',\n '000532.SZ',\n '000533.SZ',\n '000536.SZ',\n '000537.SZ',\n '000538.SZ',\n '000540.SZ',\n '000541.SZ',\n '000543.SZ',\n '000544.SZ',\n '000545.SZ',\n '000546.SZ',\n '000547.SZ',\n '000548.SZ',\n '000551.SZ',\n '000552.SZ',\n '000553.SZ',\n '000554.SZ',\n '000555.SZ',\n '000558.SZ',\n '000559.SZ',\n '000561.SZ',\n '000563.SZ',\n '000566.SZ',\n '000568.SZ',\n '000570.SZ',\n '000571.SZ',\n '000572.SZ',\n '000573.SZ',\n '000576.SZ',\n '000581.SZ',\n '000582.SZ',\n '000584.SZ',\n '000587.SZ',\n '000591.SZ',\n '000592.SZ',\n '000596.SZ',\n '000598.SZ',\n '000600.SZ',\n '000601.SZ',\n '000603.SZ',\n '000605.SZ',\n '000607.SZ',\n '000612.SZ',\n '000615.SZ',\n '000616.SZ',\n '000620.SZ',\n '000623.SZ',\n '000625.SZ',\n '000626.SZ',\n '000627.SZ',\n '000629.SZ',\n '000630.SZ',\n '000636.SZ',\n '000637.SZ',\n '000639.SZ',\n '000650.SZ',\n '000651.SZ',\n '000652.SZ',\n '000656.SZ',\n '000657.SZ',\n '000661.SZ',\n '000665.SZ',\n '000666.SZ',\n '000667.SZ',\n '000669.SZ',\n '000671.SZ',\n '000672.SZ',\n '000673.SZ',\n '000676.SZ',\n '000680.SZ',\n '000681.SZ',\n '000683.SZ',\n '000685.SZ',\n '000686.SZ',\n '000687.SZ',\n '000688.SZ',\n '000690.SZ',\n '000697.SZ',\n '000700.SZ',\n '000701.SZ',\n '000703.SZ',\n '000709.SZ',\n '000710.SZ',\n '000712.SZ',\n '000717.SZ',\n '000718.SZ',\n '000719.SZ',\n '000722.SZ',\n '000723.SZ',\n '000725.SZ',\n '000726.SZ',\n '000727.SZ',\n '000728.SZ',\n '000729.SZ',\n '000731.SZ',\n '000732.SZ',\n '000733.SZ',\n '000735.SZ',\n '000738.SZ',\n '000739.SZ',\n '000750.SZ',\n '000751.SZ',\n '000752.SZ',\n '000757.SZ',\n '000758.SZ',\n '000761.SZ',\n '000762.SZ',\n '000766.SZ',\n '000767.SZ',\n '000768.SZ',\n '000776.SZ',\n '000777.SZ',\n '000778.SZ',\n '000782.SZ',\n '000783.SZ',\n '000786.SZ',\n '000789.SZ',\n '000790.SZ',\n '000791.SZ',\n '000793.SZ',\n '000795.SZ',\n '000796.SZ',\n '000797.SZ',\n '000799.SZ',\n '000800.SZ',\n '000801.SZ',\n '000802.SZ',\n '000806.SZ',\n '000807.SZ',\n '000810.SZ',\n '000811.SZ',\n '000816.SZ',\n '000818.SZ',\n '000819.SZ',\n '000820.SZ',\n '000821.SZ',\n '000822.SZ',\n '000823.SZ',\n '000825.SZ',\n '000826.SZ',\n '000828.SZ',\n '000829.SZ',\n '000830.SZ',\n '000831.SZ',\n '000836.SZ',\n '000837.SZ',\n '000838.SZ',\n '000839.SZ',\n '000848.SZ',\n '000851.SZ',\n '000852.SZ',\n '000856.SZ',\n '000858.SZ',\n '000860.SZ',\n '000863.SZ',\n '000868.SZ',\n '000869.SZ',\n '000875.SZ',\n '000876.SZ',\n '000877.SZ',\n '000878.SZ',\n '000881.SZ',\n '000882.SZ',\n '000885.SZ',\n '000886.SZ',\n '000887.SZ',\n '000889.SZ',\n '000892.SZ',\n '000893.SZ',\n '000895.SZ',\n '000897.SZ',\n '000898.SZ',\n '000899.SZ',\n '000900.SZ',\n '000901.SZ',\n '000902.SZ',\n '000905.SZ',\n '000909.SZ',\n '000910.SZ',\n '000912.SZ',\n '000915.SZ',\n '000917.SZ',\n '000918.SZ',\n '000920.SZ',\n '000921.SZ',\n '000923.SZ',\n '000925.SZ',\n '000926.SZ',\n '000927.SZ',\n '000928.SZ',\n '000930.SZ',\n '000932.SZ',\n '000933.SZ',\n '000935.SZ',\n '000936.SZ',\n '000937.SZ',\n '000938.SZ',\n '000948.SZ',\n '000950.SZ',\n '000951.SZ',\n '000952.SZ',\n '000957.SZ',\n '000958.SZ',\n '000959.SZ',\n '000960.SZ',\n '000961.SZ',\n '000963.SZ',\n '000965.SZ',\n '000967.SZ',\n '000969.SZ',\n '000970.SZ',\n '000971.SZ',\n '000973.SZ',\n '000975.SZ',\n '000976.SZ',\n '000977.SZ',\n '000980.SZ',\n '000983.SZ',\n '000988.SZ',\n '000989.SZ',\n '000990.SZ',\n '000996.SZ',\n '000997.SZ',\n '000998.SZ',\n '000999.SZ',\n '001696.SZ',\n '001896.SZ',\n '001965.SZ',\n '001979.SZ',\n '002001.SZ',\n '002002.SZ',\n '002004.SZ',\n '002005.SZ',\n '002007.SZ',\n '002008.SZ',\n '002009.SZ',\n '002011.SZ',\n '002013.SZ',\n '002016.SZ',\n '002017.SZ',\n '002019.SZ',\n '002020.SZ',\n '002022.SZ',\n '002023.SZ',\n '002024.SZ',\n '002025.SZ',\n '002027.SZ',\n '002028.SZ',\n '002030.SZ',\n '002031.SZ',\n '002032.SZ',\n '002033.SZ',\n '002035.SZ',\n '002036.SZ',\n '002038.SZ',\n '002041.SZ',\n '002042.SZ',\n '002043.SZ',\n '002044.SZ',\n '002045.SZ',\n '002047.SZ',\n '002048.SZ',\n '002049.SZ',\n '002050.SZ',\n '002051.SZ',\n '002053.SZ',\n '002055.SZ',\n '002056.SZ',\n '002059.SZ',\n '002060.SZ',\n '002061.SZ',\n '002063.SZ',\n '002064.SZ',\n '002065.SZ',\n '002067.SZ',\n '002068.SZ',\n '002072.SZ',\n '002073.SZ',\n '002074.SZ',\n '002078.SZ',\n '002079.SZ',\n '002080.SZ',\n '002081.SZ',\n '002085.SZ',\n '002086.SZ',\n '002089.SZ',\n '002091.SZ',\n '002092.SZ',\n '002093.SZ',\n '002094.SZ',\n '002095.SZ',\n '002097.SZ',\n '002099.SZ',\n '002100.SZ',\n '002102.SZ',\n '002103.SZ',\n '002104.SZ',\n '002106.SZ',\n '002108.SZ',\n '002110.SZ',\n '002111.SZ',\n '002113.SZ',\n '002114.SZ',\n '002115.SZ',\n '002117.SZ',\n '002118.SZ',\n '002120.SZ',\n '002121.SZ',\n '002122.SZ',\n '002123.SZ',\n '002124.SZ',\n '002126.SZ',\n '002127.SZ',\n '002128.SZ',\n '002129.SZ',\n '002130.SZ',\n '002131.SZ',\n '002135.SZ',\n '002137.SZ',\n '002138.SZ',\n '002139.SZ',\n '002141.SZ',\n '002142.SZ',\n '002145.SZ',\n '002146.SZ',\n '002147.SZ',\n '002148.SZ',\n '002151.SZ',\n '002152.SZ',\n '002153.SZ',\n '002154.SZ',\n '002155.SZ',\n '002156.SZ',\n '002157.SZ',\n '002158.SZ',\n '002161.SZ',\n '002162.SZ',\n '002166.SZ',\n '002167.SZ',\n '002170.SZ',\n '002171.SZ',\n '002172.SZ',\n '002174.SZ',\n '002175.SZ',\n '002176.SZ',\n '002177.SZ',\n '002178.SZ',\n '002179.SZ',\n '002182.SZ',\n '002183.SZ',\n '002185.SZ',\n '002188.SZ',\n '002190.SZ',\n '002191.SZ',\n '002192.SZ',\n '002194.SZ',\n '002195.SZ',\n '002196.SZ',\n '002197.SZ',\n '002198.SZ',\n '002202.SZ',\n '002203.SZ',\n '002204.SZ',\n '002206.SZ',\n '002208.SZ',\n '002210.SZ',\n '002212.SZ',\n '002215.SZ',\n '002217.SZ',\n '002218.SZ',\n '002221.SZ',\n '002222.SZ',\n '002223.SZ',\n '002224.SZ',\n '002226.SZ',\n '002227.SZ',\n '002229.SZ',\n '002230.SZ',\n '002231.SZ',\n '002232.SZ',\n '002233.SZ',\n '002234.SZ',\n '002235.SZ',\n '002236.SZ',\n '002237.SZ',\n '002239.SZ',\n '002240.SZ',\n '002241.SZ',\n '002242.SZ',\n '002244.SZ',\n '002245.SZ',\n '002246.SZ',\n '002247.SZ',\n '002249.SZ',\n '002250.SZ',\n '002251.SZ',\n '002252.SZ',\n '002253.SZ',\n '002254.SZ',\n '002255.SZ',\n '002256.SZ',\n '002258.SZ',\n '002259.SZ',\n '002261.SZ',\n '002262.SZ',\n '002263.SZ',\n '002264.SZ',\n '002265.SZ',\n '002266.SZ',\n '002268.SZ',\n '002269.SZ',\n '002270.SZ',\n '002271.SZ',\n '002273.SZ',\n '002274.SZ',\n '002276.SZ',\n '002277.SZ',\n '002279.SZ',\n '002280.SZ',\n '002281.SZ',\n '002283.SZ',\n '002284.SZ',\n '002285.SZ',\n '002287.SZ',\n '002288.SZ',\n '002292.SZ',\n '002294.SZ',\n '002296.SZ',\n '002298.SZ',\n '002299.SZ',\n '002300.SZ',\n '002301.SZ',\n '002302.SZ',\n '002303.SZ',\n '002304.SZ',\n '002305.SZ',\n '002307.SZ',\n '002308.SZ',\n '002309.SZ',\n '002310.SZ',\n '002311.SZ',\n '002312.SZ',\n '002313.SZ',\n '002314.SZ',\n '002315.SZ',\n '002317.SZ',\n '002318.SZ',\n '002320.SZ',\n '002321.SZ',\n '002322.SZ',\n '002323.SZ',\n '002324.SZ',\n '002325.SZ',\n '002326.SZ',\n '002328.SZ',\n '002329.SZ',\n '002331.SZ',\n '002332.SZ',\n '002335.SZ',\n '002339.SZ',\n '002340.SZ',\n '002341.SZ',\n '002342.SZ',\n '002343.SZ',\n '002344.SZ',\n '002345.SZ',\n '002346.SZ',\n '002348.SZ',\n '002349.SZ',\n '002350.SZ',\n '002351.SZ',\n '002352.SZ',\n '002353.SZ',\n '002354.SZ',\n '002355.SZ',\n '002356.SZ',\n '002358.SZ',\n '002362.SZ',\n '002363.SZ',\n '002364.SZ',\n '002365.SZ',\n '002366.SZ',\n '002367.SZ',\n '002368.SZ',\n '002369.SZ',\n '002371.SZ',\n '002372.SZ',\n '002373.SZ',\n '002375.SZ',\n '002376.SZ',\n '002378.SZ',\n '002382.SZ',\n '002383.SZ',\n '002384.SZ',\n '002385.SZ',\n '002386.SZ',\n '002387.SZ',\n '002388.SZ',\n '002389.SZ',\n '002390.SZ',\n '002392.SZ',\n '002393.SZ',\n '002396.SZ',\n '002400.SZ',\n '002401.SZ',\n '002402.SZ',\n '002405.SZ',\n '002406.SZ',\n '002407.SZ',\n '002408.SZ',\n '002409.SZ',\n '002410.SZ',\n '002411.SZ',\n '002413.SZ',\n '002414.SZ',\n '002415.SZ',\n '002416.SZ',\n '002418.SZ',\n '002419.SZ',\n '002421.SZ',\n '002422.SZ',\n '002424.SZ',\n '002425.SZ',\n '002426.SZ',\n '002427.SZ',\n '002428.SZ',\n '002429.SZ',\n '002430.SZ',\n '002431.SZ',\n '002432.SZ',\n '002433.SZ',\n '002434.SZ',\n '002436.SZ',\n '002437.SZ',\n '002439.SZ',\n '002440.SZ',\n '002441.SZ',\n '002443.SZ',\n '002444.SZ',\n '002445.SZ',\n '002446.SZ',\n '002447.SZ',\n '002448.SZ',\n '002449.SZ',\n '002451.SZ',\n '002452.SZ',\n '002453.SZ',\n '002456.SZ',\n '002457.SZ',\n '002458.SZ',\n '002459.SZ',\n '002460.SZ',\n '002461.SZ',\n '002462.SZ',\n '002463.SZ',\n '002464.SZ',\n '002465.SZ',\n '002466.SZ',\n '002467.SZ',\n '002468.SZ',\n '002470.SZ',\n '002471.SZ',\n '002472.SZ',\n '002474.SZ',\n '002475.SZ',\n '002476.SZ',\n '002479.SZ',\n '002481.SZ',\n '002482.SZ',\n '002483.SZ',\n '002484.SZ',\n '002488.SZ',\n '002489.SZ',\n '002491.SZ',\n '002493.SZ',\n '002494.SZ',\n '002496.SZ',\n '002497.SZ',\n '002499.SZ',\n '002500.SZ',\n '002501.SZ',\n '002502.SZ',\n '002503.SZ',\n '002505.SZ',\n '002506.SZ',\n '002507.SZ',\n '002508.SZ',\n '002510.SZ',\n '002511.SZ',\n '002512.SZ',\n '002515.SZ',\n '002516.SZ',\n '002517.SZ',\n '002518.SZ',\n '002519.SZ',\n '002521.SZ',\n '002522.SZ',\n '002524.SZ',\n '002527.SZ',\n '002528.SZ',\n '002531.SZ',\n '002535.SZ',\n '002537.SZ',\n '002538.SZ',\n '002539.SZ',\n '002540.SZ',\n '002542.SZ',\n '002543.SZ',\n '002544.SZ',\n '002545.SZ',\n '002546.SZ',\n '002547.SZ',\n '002550.SZ',\n '002551.SZ',\n '002554.SZ',\n '002555.SZ',\n '002556.SZ',\n '002558.SZ',\n '002559.SZ',\n '002562.SZ',\n '002564.SZ',\n '002567.SZ',\n '002570.SZ',\n '002572.SZ',\n '002573.SZ',\n '002574.SZ',\n '002575.SZ',\n '002577.SZ',\n '002579.SZ',\n '002583.SZ',\n '002584.SZ',\n '002585.SZ',\n '002586.SZ',\n '002588.SZ',\n '002589.SZ',\n '002590.SZ',\n '002592.SZ',\n '002594.SZ',\n '002596.SZ',\n '002597.SZ',\n '002600.SZ',\n '002601.SZ',\n '002602.SZ',\n '002603.SZ',\n '002605.SZ',\n '002606.SZ',\n '002609.SZ',\n '002610.SZ',\n '002611.SZ',\n '002612.SZ',\n '002614.SZ',\n '002616.SZ',\n '002617.SZ',\n '002618.SZ',\n '002619.SZ',\n '002622.SZ',\n '002624.SZ',\n '002625.SZ',\n '002626.SZ',\n '002630.SZ',\n '002631.SZ',\n '002635.SZ',\n '002636.SZ',\n '002638.SZ',\n '002640.SZ',\n '002642.SZ',\n '002643.SZ',\n '002644.SZ',\n '002646.SZ',\n '002647.SZ',\n '002648.SZ',\n '002649.SZ',\n '002650.SZ',\n '002651.SZ',\n '002655.SZ',\n '002657.SZ',\n '002658.SZ',\n '002660.SZ',\n '002662.SZ',\n '002663.SZ',\n '002664.SZ',\n '002665.SZ',\n '002667.SZ',\n '002668.SZ',\n '002670.SZ',\n '002672.SZ',\n '002673.SZ',\n '002675.SZ',\n '002676.SZ',\n '002677.SZ',\n '002678.SZ',\n '002681.SZ',\n '002684.SZ',\n '002690.SZ',\n '002694.SZ',\n '002695.SZ',\n '002697.SZ',\n '002699.SZ',\n '002701.SZ',\n '002703.SZ',\n '002707.SZ',\n '002709.SZ',\n '002712.SZ',\n '002714.SZ',\n '002716.SZ',\n '002717.SZ',\n '002721.SZ',\n '002724.SZ',\n '002726.SZ',\n '002727.SZ',\n '002733.SZ',\n '002736.SZ',\n '002737.SZ',\n '002739.SZ',\n '002741.SZ',\n '002742.SZ',\n '002745.SZ',\n '002746.SZ',\n '002747.SZ',\n '002751.SZ',\n '002752.SZ',\n '002756.SZ',\n '002759.SZ',\n '002762.SZ',\n '002766.SZ',\n '002769.SZ',\n '002771.SZ',\n '002772.SZ',\n '002777.SZ',\n '002781.SZ',\n '002782.SZ',\n '002783.SZ',\n '002786.SZ',\n '002788.SZ',\n '002790.SZ',\n '002791.SZ',\n '002792.SZ',\n '002797.SZ',\n '002801.SZ',\n '002802.SZ',\n '002807.SZ',\n '002812.SZ',\n '002815.SZ',\n '002818.SZ',\n '002821.SZ',\n '002822.SZ',\n '002831.SZ',\n '002839.SZ',\n '002841.SZ',\n '002916.SZ',\n '002920.SZ',\n '002925.SZ',\n '002926.SZ',\n '002929.SZ',\n '300001.SZ',\n '300002.SZ',\n '300003.SZ',\n '300004.SZ',\n '300005.SZ',\n '300006.SZ',\n '300007.SZ',\n '300008.SZ',\n '300009.SZ',\n '300010.SZ',\n '300011.SZ',\n '300012.SZ',\n '300014.SZ',\n '300015.SZ',\n '300016.SZ',\n '300017.SZ',\n '300018.SZ',\n '300020.SZ',\n '300021.SZ',\n '300024.SZ',\n '300026.SZ',\n '300027.SZ',\n '300030.SZ',\n '300031.SZ',\n '300032.SZ',\n '300033.SZ',\n '300034.SZ',\n '300036.SZ',\n '300037.SZ',\n '300038.SZ',\n '300039.SZ',\n '300043.SZ',\n '300044.SZ',\n '300045.SZ',\n '300047.SZ',\n '300048.SZ',\n '300050.SZ',\n '300051.SZ',\n '300052.SZ',\n '300053.SZ',\n '300054.SZ',\n '300055.SZ',\n '300056.SZ',\n '300058.SZ',\n '300059.SZ',\n '300063.SZ',\n '300064.SZ',\n '300065.SZ',\n '300066.SZ',\n '300068.SZ',\n '300070.SZ',\n '300071.SZ',\n '300072.SZ',\n '300073.SZ',\n '300074.SZ',\n '300075.SZ',\n '300076.SZ',\n '300077.SZ',\n '300078.SZ',\n '300079.SZ',\n '300083.SZ',\n '300084.SZ',\n '300085.SZ',\n '300086.SZ',\n '300088.SZ',\n '300096.SZ',\n '300097.SZ',\n '300098.SZ',\n '300100.SZ',\n '300101.SZ',\n '300102.SZ',\n '300109.SZ',\n '300110.SZ',\n '300111.SZ',\n '300113.SZ',\n '300114.SZ',\n '300115.SZ',\n '300116.SZ',\n '300117.SZ',\n '300118.SZ',\n '300122.SZ',\n '300124.SZ',\n '300128.SZ',\n '300130.SZ',\n '300131.SZ',\n '300133.SZ',\n '300134.SZ',\n '300135.SZ',\n '300136.SZ',\n '300137.SZ',\n '300140.SZ',\n '300142.SZ',\n '300144.SZ',\n '300145.SZ',\n '300146.SZ',\n '300147.SZ',\n '300148.SZ',\n '300149.SZ',\n '300152.SZ',\n '300157.SZ',\n '300159.SZ',\n '300160.SZ',\n '300162.SZ',\n '300165.SZ',\n '300166.SZ',\n '300168.SZ',\n '300170.SZ',\n '300171.SZ',\n '300172.SZ',\n '300173.SZ',\n '300175.SZ',\n '300176.SZ',\n '300177.SZ',\n '300178.SZ',\n '300180.SZ',\n '300181.SZ',\n '300182.SZ',\n '300183.SZ',\n '300185.SZ',\n '300187.SZ',\n '300188.SZ',\n '300191.SZ',\n '300193.SZ',\n '300194.SZ',\n '300195.SZ',\n '300197.SZ',\n '300198.SZ',\n '300199.SZ',\n '300202.SZ',\n '300203.SZ',\n '300204.SZ',\n '300205.SZ',\n '300206.SZ',\n '300207.SZ',\n '300208.SZ',\n '300209.SZ',\n '300212.SZ',\n '300213.SZ',\n '300215.SZ',\n '300217.SZ',\n '300219.SZ',\n '300221.SZ',\n '300222.SZ',\n '300223.SZ',\n '300224.SZ',\n '300226.SZ',\n '300227.SZ',\n '300228.SZ',\n '300229.SZ',\n '300231.SZ',\n '300232.SZ',\n '300236.SZ',\n '300237.SZ',\n '300238.SZ',\n '300242.SZ',\n '300244.SZ',\n '300245.SZ',\n ...]"
     },
     "execution_count": 37,
     "metadata": {},
     "output_type": "execute_result"
    }
   ],
   "source": [
    "with open(\"E:\\Pycharm_files\\Quant\\devolop\\data\\\\tkrs.txt\", 'r') as f:\n",
    "    tkrs = [i.strip('\\n') for i in f.readlines()]\n",
    "tkrs"
   ],
   "metadata": {
    "collapsed": false,
    "ExecuteTime": {
     "end_time": "2023-12-05T12:26:02.913293600Z",
     "start_time": "2023-12-05T12:26:02.856867800Z"
    }
   },
   "id": "1a00e6118b0d60fb"
  },
  {
   "cell_type": "code",
   "execution_count": 39,
   "outputs": [
    {
     "data": {
      "text/plain": "000001.SZ    1.0\n000002.SZ    1.0\n000005.SZ    1.0\n000006.SZ    1.0\n000008.SZ    1.0\n            ... \n512500.SH    1.0\n510510.SH    1.0\n510590.SH    1.0\n159922.SZ    1.0\n159968.SZ    1.0\nLength: 4507, dtype: float64"
     },
     "execution_count": 39,
     "metadata": {},
     "output_type": "execute_result"
    }
   ],
   "source": [
    "import numpy as np\n",
    "pd.Series(np.ones(len(tkrs)),index=tkrs)"
   ],
   "metadata": {
    "collapsed": false,
    "ExecuteTime": {
     "end_time": "2023-12-05T12:26:44.489140100Z",
     "start_time": "2023-12-05T12:26:44.467610800Z"
    }
   },
   "id": "2148d9a86a2d5db0"
  },
  {
   "cell_type": "code",
   "execution_count": 42,
   "outputs": [
    {
     "data": {
      "text/plain": "           20201121\n000001.SZ       1.0\n000002.SZ       1.0\n000005.SZ       1.0\n000006.SZ       1.0\n000008.SZ       1.0\n...             ...\n512500.SH       1.0\n510510.SH       1.0\n510590.SH       1.0\n159922.SZ       1.0\n159968.SZ       1.0\n\n[4507 rows x 1 columns]",
      "text/html": "<div>\n<style scoped>\n    .dataframe tbody tr th:only-of-type {\n        vertical-align: middle;\n    }\n\n    .dataframe tbody tr th {\n        vertical-align: top;\n    }\n\n    .dataframe thead th {\n        text-align: right;\n    }\n</style>\n<table border=\"1\" class=\"dataframe\">\n  <thead>\n    <tr style=\"text-align: right;\">\n      <th></th>\n      <th>20201121</th>\n    </tr>\n  </thead>\n  <tbody>\n    <tr>\n      <th>000001.SZ</th>\n      <td>1.0</td>\n    </tr>\n    <tr>\n      <th>000002.SZ</th>\n      <td>1.0</td>\n    </tr>\n    <tr>\n      <th>000005.SZ</th>\n      <td>1.0</td>\n    </tr>\n    <tr>\n      <th>000006.SZ</th>\n      <td>1.0</td>\n    </tr>\n    <tr>\n      <th>000008.SZ</th>\n      <td>1.0</td>\n    </tr>\n    <tr>\n      <th>...</th>\n      <td>...</td>\n    </tr>\n    <tr>\n      <th>512500.SH</th>\n      <td>1.0</td>\n    </tr>\n    <tr>\n      <th>510510.SH</th>\n      <td>1.0</td>\n    </tr>\n    <tr>\n      <th>510590.SH</th>\n      <td>1.0</td>\n    </tr>\n    <tr>\n      <th>159922.SZ</th>\n      <td>1.0</td>\n    </tr>\n    <tr>\n      <th>159968.SZ</th>\n      <td>1.0</td>\n    </tr>\n  </tbody>\n</table>\n<p>4507 rows × 1 columns</p>\n</div>"
     },
     "execution_count": 42,
     "metadata": {},
     "output_type": "execute_result"
    }
   ],
   "source": [
    "factor['20201121'] = pd.Series(np.ones(len(tkrs)),index=tkrs)\n",
    "factor"
   ],
   "metadata": {
    "collapsed": false,
    "ExecuteTime": {
     "end_time": "2023-12-05T12:27:15.512311300Z",
     "start_time": "2023-12-05T12:27:15.497758Z"
    }
   },
   "id": "931537a541cffbba"
  },
  {
   "cell_type": "code",
   "execution_count": 58,
   "outputs": [],
   "source": [
    "factor = pd.read_csv('./zwj/alpha004_rolling20.csv',index_col=0)\n",
    "factor.index = factor.index.astype('str')"
   ],
   "metadata": {
    "collapsed": false,
    "ExecuteTime": {
     "end_time": "2023-12-05T12:36:36.766127800Z",
     "start_time": "2023-12-05T12:36:36.056292900Z"
    }
   },
   "id": "a8aefe6ad6844891"
  },
  {
   "cell_type": "code",
   "execution_count": 59,
   "outputs": [],
   "source": [
    "factor.index = factor.index.astype('str')"
   ],
   "metadata": {
    "collapsed": false,
    "ExecuteTime": {
     "end_time": "2023-12-05T12:36:36.781621500Z",
     "start_time": "2023-12-05T12:36:36.768122400Z"
    }
   },
   "id": "2df290c20c619e26"
  },
  {
   "cell_type": "code",
   "execution_count": 66,
   "outputs": [],
   "source": [
    "\n",
    "temp=[]\n",
    "for i in datelist[-100:-1]:\n",
    "    temp.append(factor.loc[i].reindex(tkrs))\n",
    "    "
   ],
   "metadata": {
    "collapsed": false,
    "ExecuteTime": {
     "end_time": "2023-12-05T12:54:11.277883100Z",
     "start_time": "2023-12-05T12:54:11.232259100Z"
    }
   },
   "id": "ba1a732cf102122c"
  },
  {
   "cell_type": "code",
   "execution_count": 71,
   "outputs": [],
   "source": [
    "def stock_data(path: str, code_list: list, period: str='1d', start: str='', end: str='', field: list='*', target: str='data') :\n",
    "    print(code_list)"
   ],
   "metadata": {
    "collapsed": false,
    "ExecuteTime": {
     "end_time": "2023-12-06T01:32:00.121265900Z",
     "start_time": "2023-12-06T01:32:00.089442200Z"
    }
   },
   "id": "e8771987a079c8c0"
  },
  {
   "cell_type": "code",
   "execution_count": 72,
   "outputs": [
    {
     "ename": "TypeError",
     "evalue": "stock_data() missing 2 required positional arguments: 'path' and 'code_list'",
     "output_type": "error",
     "traceback": [
      "\u001B[1;31m---------------------------------------------------------------------------\u001B[0m",
      "\u001B[1;31mTypeError\u001B[0m                                 Traceback (most recent call last)",
      "Cell \u001B[1;32mIn[72], line 1\u001B[0m\n\u001B[1;32m----> 1\u001B[0m \u001B[43mstock_data\u001B[49m\u001B[43m(\u001B[49m\u001B[43m)\u001B[49m\n",
      "\u001B[1;31mTypeError\u001B[0m: stock_data() missing 2 required positional arguments: 'path' and 'code_list'"
     ]
    }
   ],
   "source": [
    "stock_data()"
   ],
   "metadata": {
    "collapsed": false,
    "ExecuteTime": {
     "end_time": "2023-12-06T01:32:02.928380200Z",
     "start_time": "2023-12-06T01:32:02.875871500Z"
    }
   },
   "id": "5ae2756e7079115c"
  },
  {
   "cell_type": "code",
   "execution_count": null,
   "outputs": [],
   "source": [],
   "metadata": {
    "collapsed": false
   },
   "id": "f22a0d34ecd37a59"
  }
 ],
 "metadata": {
  "kernelspec": {
   "display_name": "Python 3",
   "language": "python",
   "name": "python3"
  },
  "language_info": {
   "codemirror_mode": {
    "name": "ipython",
    "version": 2
   },
   "file_extension": ".py",
   "mimetype": "text/x-python",
   "name": "python",
   "nbconvert_exporter": "python",
   "pygments_lexer": "ipython2",
   "version": "2.7.6"
  }
 },
 "nbformat": 4,
 "nbformat_minor": 5
}
